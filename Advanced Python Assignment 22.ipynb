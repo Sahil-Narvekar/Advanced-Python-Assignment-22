{
 "cells": [
  {
   "cell_type": "code",
   "execution_count": null,
   "metadata": {},
   "outputs": [],
   "source": [
    "Q1. What are the benefits of the built-in array package, if any?"
   ]
  },
  {
   "cell_type": "code",
   "execution_count": null,
   "metadata": {},
   "outputs": [],
   "source": [
    "An array is a collection of items stored at contiguous memory locations. The idea is to store multiple \n",
    "items of the same type together. This makes it easier to calculate the position of each element by simply \n",
    "adding an offset to a base value, i.e., the memory location of the first element of the array (generally \n",
    "denoted by the name of the array).They can be useful when we have to manipulate only a specific data \n",
    "type values.An array can hold many values under a single name, and you can access the values by \n",
    "referring to an index number. If you need to allocate an array that you know will not change, then arrays\n",
    "can be faster and use less memory than lists.Faster calculations and analysis than lists"
   ]
  },
  {
   "cell_type": "code",
   "execution_count": null,
   "metadata": {},
   "outputs": [],
   "source": [
    "Q2. What are some of the array package's limitations?"
   ]
  },
  {
   "cell_type": "code",
   "execution_count": null,
   "metadata": {},
   "outputs": [],
   "source": [
    "All elements of the array must be of the same type.Array are not as flexible as lists with respect to\n",
    "data type.Array package is less efficient and executed with more code as compared to numpy array package.\n",
    "Does not support advanced scientific/mathematical Python-based software as compared to numpy array."
   ]
  },
  {
   "cell_type": "code",
   "execution_count": null,
   "metadata": {},
   "outputs": [],
   "source": [
    "Q3. Describe the main differences between the array and numpy packages."
   ]
  },
  {
   "cell_type": "code",
   "execution_count": null,
   "metadata": {},
   "outputs": [],
   "source": [
    "NumPy arrays have a fixed size at creation, unlike Python lists (which can grow dynamically). Changing the\n",
    "size of an ndarray will create a new array and delete the original.The elements in a NumPy array are all \n",
    "required to be of the same data type, and thus will be the same size in memory. The exception: one can have\n",
    "arrays of (Python, including NumPy) objects, thereby allowing for arrays of different sized elements.\n",
    "NumPy arrays facilitate advanced mathematical and other types of operations on large numbers of data. \n",
    "Typically, such operations are executed more efficiently and with less code than is possible using \n",
    "Python’s built-in sequences.A growing plethora of scientific and mathematical Python-based packages are\n",
    "using NumPy arrays; though these typically support Python-sequence input, they convert such input to \n",
    "NumPy arrays prior to processing, and they often output NumPy arrays. In other words, in order to \n",
    "efficiently use much (perhaps even most) of today’s scientific/mathematical Python-based software, just \n",
    "knowing how to use Python’s built-in sequence types is insufficient - one also needs to know how to use \n",
    "NumPy arrays.\n",
    "Numpy arrays are static python arrays are dynamic."
   ]
  },
  {
   "cell_type": "code",
   "execution_count": 30,
   "metadata": {},
   "outputs": [
    {
     "name": "stdout",
     "output_type": "stream",
     "text": [
      "<class 'array.array'> <class 'numpy.ndarray'>\n"
     ]
    }
   ],
   "source": [
    "import array as arr\n",
    "a=arr.array('i',[1,2,3,4])\n",
    "b=np.array([1,2,3,4])\n",
    "print(type(a),type(b))\n"
   ]
  },
  {
   "cell_type": "code",
   "execution_count": null,
   "metadata": {},
   "outputs": [],
   "source": [
    "Q4. Explain the distinctions between the empty, ones, and zeros functions."
   ]
  },
  {
   "cell_type": "code",
   "execution_count": null,
   "metadata": {},
   "outputs": [],
   "source": [
    "numpy.empty(shape, dtype=float, order='C', *, like=None)\n",
    "Return a new array of given shape and type, without initializing entries.\n",
    "\n",
    "numpy.ones(shape, dtype=None, order='C', *, like=None)[source]\n",
    "Return a new array of given shape and type, filled with ones.\n",
    "\n",
    "numpy.zeros(shape, dtype=float, order='C', *, like=None)\n",
    "Return a new array of given shape and type, filled with zeros."
   ]
  },
  {
   "cell_type": "code",
   "execution_count": 4,
   "metadata": {},
   "outputs": [
    {
     "data": {
      "text/plain": [
       "(array([[0., 0., 0., 0., 0.],\n",
       "        [0., 0., 0., 0., 0.]]),\n",
       " array([[1., 1., 1., 1., 1.],\n",
       "        [1., 1., 1., 1., 1.]]),\n",
       " array([[0., 0., 0., 0., 0.],\n",
       "        [0., 0., 0., 0., 0.]]))"
      ]
     },
     "execution_count": 4,
     "metadata": {},
     "output_type": "execute_result"
    }
   ],
   "source": [
    "import numpy as np\n",
    "a=np.empty((2,5))\n",
    "b=np.ones((2,5))\n",
    "c=np.zeros((2,5))\n",
    "a,b,c"
   ]
  },
  {
   "cell_type": "code",
   "execution_count": null,
   "metadata": {},
   "outputs": [],
   "source": [
    "Q5. In the fromfunction function, which is used to construct new arrays, what is the role of the callable\n",
    "argument?"
   ]
  },
  {
   "cell_type": "code",
   "execution_count": null,
   "metadata": {},
   "outputs": [],
   "source": [
    "numpy.fromfunction(function, shape, **kwargs)\n",
    "function\tfunction construct an array by executing a function over each coordinate and the resulting \n",
    "array, therefore, has a value fn(x, y, z) at coordinate (x, y, z). For example, if shape were (2, 2), \n",
    "then the parameters would be array([[0, 0], [1, 1]]) and array([[0, 1], [0, 1]])\n",
    "\n",
    "shape\tShape of the output array, which also determines the shape of the coordinate arrays passed to \n",
    "function."
   ]
  },
  {
   "cell_type": "code",
   "execution_count": 15,
   "metadata": {},
   "outputs": [
    {
     "name": "stdout",
     "output_type": "stream",
     "text": [
      "[[0 1]\n",
      " [1 2]]\n"
     ]
    }
   ],
   "source": [
    "gfg = np.fromfunction(lambda i, j: i +j, (2, 2), dtype = int)\n",
    "print(gfg)"
   ]
  },
  {
   "cell_type": "code",
   "execution_count": null,
   "metadata": {},
   "outputs": [],
   "source": [
    "Q6. What happens when a numpy array is combined with a single-value operand (a scalar, such as\n",
    "an int or a floating-point value) through addition, as in the expression A + n?"
   ]
  },
  {
   "cell_type": "code",
   "execution_count": 16,
   "metadata": {},
   "outputs": [],
   "source": [
    "a=np.array([1,6,45,96,78])"
   ]
  },
  {
   "cell_type": "code",
   "execution_count": 19,
   "metadata": {},
   "outputs": [
    {
     "name": "stdout",
     "output_type": "stream",
     "text": [
      "[ 2  7 46 97 79]\n"
     ]
    }
   ],
   "source": [
    "print(a+1)"
   ]
  },
  {
   "cell_type": "code",
   "execution_count": null,
   "metadata": {},
   "outputs": [],
   "source": [
    "As can been in above expression the given operation with single operand is performed on every element\n",
    "within that nd array."
   ]
  },
  {
   "cell_type": "code",
   "execution_count": null,
   "metadata": {},
   "outputs": [],
   "source": [
    "Q7. Can array-to-scalar operations use combined operation-assign operators (such as += or *=)?\n",
    "What is the outcome?"
   ]
  },
  {
   "cell_type": "code",
   "execution_count": 23,
   "metadata": {},
   "outputs": [
    {
     "data": {
      "text/plain": [
       "(array([  2,  12,  90, 192, 156]), array([ 2,  7, 46, 97, 79]))"
      ]
     },
     "execution_count": 23,
     "metadata": {},
     "output_type": "execute_result"
    }
   ],
   "source": [
    "a=np.array([1,6,45,96,78])\n",
    "copy_a=np.array([1,6,45,96,78])\n",
    "a*=2\n",
    "copy_a+=1\n",
    "a,copy_a"
   ]
  },
  {
   "cell_type": "code",
   "execution_count": null,
   "metadata": {},
   "outputs": [],
   "source": [
    "As we can see in above combined operation-assign operators work on every single element within numpy array"
   ]
  },
  {
   "cell_type": "code",
   "execution_count": null,
   "metadata": {},
   "outputs": [],
   "source": [
    "Q8. Does a numpy array contain fixed-length strings? What happens if you allocate a longer string to\n",
    "one of these arrays?"
   ]
  },
  {
   "cell_type": "code",
   "execution_count": null,
   "metadata": {},
   "outputs": [],
   "source": [
    "NumPy arrays have a fixed size at creation, unlike Python lists (which can grow dynamically). Changing the\n",
    "size of an ndarray will create a new array and delete the original."
   ]
  },
  {
   "cell_type": "code",
   "execution_count": null,
   "metadata": {},
   "outputs": [],
   "source": [
    "Q9. What happens when you combine two numpy arrays using an operation like addition (+) or\n",
    "multiplication (*)? What are the conditions for combining two numpy arrays?"
   ]
  },
  {
   "cell_type": "code",
   "execution_count": 35,
   "metadata": {},
   "outputs": [
    {
     "name": "stdout",
     "output_type": "stream",
     "text": [
      "[5 8 9 8] [6 6 6 6]\n"
     ]
    },
    {
     "ename": "ValueError",
     "evalue": "operands could not be broadcast together with shapes (4,) (2,) ",
     "output_type": "error",
     "traceback": [
      "\u001b[1;31m---------------------------------------------------------------------------\u001b[0m",
      "\u001b[1;31mValueError\u001b[0m                                Traceback (most recent call last)",
      "\u001b[1;32m<ipython-input-35-95e9edb0d293>\u001b[0m in \u001b[0;36m<module>\u001b[1;34m\u001b[0m\n\u001b[0;32m      3\u001b[0m \u001b[0mc\u001b[0m\u001b[1;33m=\u001b[0m\u001b[0mnp\u001b[0m\u001b[1;33m.\u001b[0m\u001b[0marray\u001b[0m\u001b[1;33m(\u001b[0m\u001b[1;33m[\u001b[0m\u001b[1;36m1\u001b[0m\u001b[1;33m,\u001b[0m\u001b[1;36m2\u001b[0m\u001b[1;33m]\u001b[0m\u001b[1;33m)\u001b[0m\u001b[1;33m\u001b[0m\u001b[1;33m\u001b[0m\u001b[0m\n\u001b[0;32m      4\u001b[0m \u001b[0mprint\u001b[0m\u001b[1;33m(\u001b[0m\u001b[0ma\u001b[0m\u001b[1;33m*\u001b[0m\u001b[0mb\u001b[0m\u001b[1;33m,\u001b[0m\u001b[0ma\u001b[0m\u001b[1;33m+\u001b[0m\u001b[0mb\u001b[0m\u001b[1;33m)\u001b[0m\u001b[1;33m\u001b[0m\u001b[1;33m\u001b[0m\u001b[0m\n\u001b[1;32m----> 5\u001b[1;33m \u001b[0mprint\u001b[0m\u001b[1;33m(\u001b[0m\u001b[0ma\u001b[0m\u001b[1;33m*\u001b[0m\u001b[0mc\u001b[0m\u001b[1;33m)\u001b[0m\u001b[1;33m\u001b[0m\u001b[1;33m\u001b[0m\u001b[0m\n\u001b[0m",
      "\u001b[1;31mValueError\u001b[0m: operands could not be broadcast together with shapes (4,) (2,) "
     ]
    }
   ],
   "source": [
    "a=np.array([1,2,3,4])\n",
    "b=np.array([5,4,3,2])\n",
    "c=np.array([1,2])\n",
    "print(a*b,a+b)\n",
    "print(a*c)"
   ]
  },
  {
   "cell_type": "code",
   "execution_count": null,
   "metadata": {},
   "outputs": [],
   "source": [
    "As we can see when two numpy have array same size given operation like + or * is performed with respect to\n",
    "corresponding elements,when there is no matching in array sizes size it gives error."
   ]
  },
  {
   "cell_type": "code",
   "execution_count": null,
   "metadata": {},
   "outputs": [],
   "source": [
    "Q10. What is the best way to use a Boolean array to mask another array?"
   ]
  },
  {
   "cell_type": "code",
   "execution_count": 48,
   "metadata": {},
   "outputs": [
    {
     "name": "stdout",
     "output_type": "stream",
     "text": [
      "[[0 1 2 3 4 5 6 7]]\n",
      "[[ True False  True False  True False  True False]]\n",
      "[0 2 4 6]\n"
     ]
    }
   ],
   "source": [
    "a=np.fromfunction(lambda c,y:c+y,(1,8),dtype=int)\n",
    "print(a)\n",
    "print(a%2==0)\n",
    "print(a[a%2==0])"
   ]
  },
  {
   "cell_type": "code",
   "execution_count": null,
   "metadata": {},
   "outputs": [],
   "source": [
    "As we see we can use this code to mask another array by putting condition such that whatever give true value\n",
    "will be returned back."
   ]
  },
  {
   "cell_type": "code",
   "execution_count": null,
   "metadata": {},
   "outputs": [],
   "source": [
    "Q11. What are three different ways to get the standard deviation of a wide collection of data using\n",
    "both standard Python and its packages? Sort the three of them by how quickly they execute."
   ]
  },
  {
   "cell_type": "code",
   "execution_count": 64,
   "metadata": {},
   "outputs": [],
   "source": [
    "f=[]\n",
    "def userstd(a):\n",
    "    \n",
    "    x=len(a)\n",
    "    y=sum(a)/x\n",
    "    f=[(p-y)**2 for p in a]\n",
    "    \n",
    "    h=(sum(f)/x)**0.5\n",
    "    return h"
   ]
  },
  {
   "cell_type": "code",
   "execution_count": 68,
   "metadata": {},
   "outputs": [
    {
     "data": {
      "text/plain": [
       "(3.1622776601683795,\n",
       " 1.0019965171813965,\n",
       " 3.1622776601683795,\n",
       " 1.0115983486175537,\n",
       " 3.1622776601683795,\n",
       " 1.0100221633911133)"
      ]
     },
     "execution_count": 68,
     "metadata": {},
     "output_type": "execute_result"
    }
   ],
   "source": [
    "import statistics\n",
    "import time\n",
    "a=[1,2,3,4,5,6,7,8,9,10,11]\n",
    "begin1=time.time()\n",
    "b=statistics.pstdev(a)\n",
    "time.sleep(1)\n",
    "end1=time.time()\n",
    "begin2=time.time()\n",
    "c=np.std(a)\n",
    "time.sleep(1)\n",
    "end2=time.time()\n",
    "begin3=time.time()\n",
    "d=userstd(a) \n",
    "time.sleep(1)\n",
    "end3=time.time()\n",
    "b,(end1-begin1),c,(end2-begin2),d,(end3-begin3)"
   ]
  },
  {
   "cell_type": "code",
   "execution_count": null,
   "metadata": {},
   "outputs": [],
   "source": [
    "Hence first command gives results in fastest time hence numpy array calculations are fastest.\n",
    "1)b=statistics.pstdev(a)\n",
    "2)d=userstd(a) \n",
    "3)c=np.std(a)"
   ]
  },
  {
   "cell_type": "code",
   "execution_count": null,
   "metadata": {},
   "outputs": [],
   "source": [
    "12. What is the dimensionality of a Boolean mask-generated array?"
   ]
  },
  {
   "cell_type": "code",
   "execution_count": 73,
   "metadata": {},
   "outputs": [
    {
     "name": "stdout",
     "output_type": "stream",
     "text": [
      "[[ 0  1  2  3  4  5  6  7]\n",
      " [ 1  2  3  4  5  6  7  8]\n",
      " [ 2  3  4  5  6  7  8  9]\n",
      " [ 3  4  5  6  7  8  9 10]]\n",
      "[[ True False  True False  True False  True False]\n",
      " [False  True False  True False  True False  True]\n",
      " [ True False  True False  True False  True False]\n",
      " [False  True False  True False  True False  True]]\n",
      "[ 0  2  4  6  2  4  6  8  2  4  6  8  4  6  8 10] shape is (16,)\n"
     ]
    }
   ],
   "source": [
    "a=np.fromfunction(lambda c,y:c+y,(4,8),dtype=int)\n",
    "print(a)\n",
    "print(a%2==0)\n",
    "print(a[a%2==0],'shape is',a[a%2==0].shape)"
   ]
  },
  {
   "cell_type": "code",
   "execution_count": null,
   "metadata": {},
   "outputs": [],
   "source": [
    "Hence it returns array with single row and number of columns are equal to number of elements present in\n",
    "the returned array."
   ]
  }
 ],
 "metadata": {
  "kernelspec": {
   "display_name": "Python 3",
   "language": "python",
   "name": "python3"
  },
  "language_info": {
   "codemirror_mode": {
    "name": "ipython",
    "version": 3
   },
   "file_extension": ".py",
   "mimetype": "text/x-python",
   "name": "python",
   "nbconvert_exporter": "python",
   "pygments_lexer": "ipython3",
   "version": "3.8.3"
  }
 },
 "nbformat": 4,
 "nbformat_minor": 4
}
